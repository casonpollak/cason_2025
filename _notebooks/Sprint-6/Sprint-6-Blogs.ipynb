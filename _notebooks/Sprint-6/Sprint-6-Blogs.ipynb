{
 "cells": [
  {
   "cell_type": "raw",
   "metadata": {
    "vscode": {
     "languageId": "raw"
    }
   },
   "source": [
    "---\n",
    "layout: post\n",
    "title: Sprint 6 Blogs\n",
    "description: My progress throughout Sprint 6\n",
    "categories: [Blogs]\n",
    "comments: True\n",
    "permalink: _notebooks/sprint-6/blogs\n",
    "author: Cason Pollak\n",
    "---"
   ]
  },
  {
   "cell_type": "markdown",
   "metadata": {},
   "source": [
    "Blog"
   ]
  }
 ],
 "metadata": {
  "language_info": {
   "name": "python"
  }
 },
 "nbformat": 4,
 "nbformat_minor": 2
}
