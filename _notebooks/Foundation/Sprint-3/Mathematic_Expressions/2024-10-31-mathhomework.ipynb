{
 "cells": [
  {
   "cell_type": "markdown",
   "metadata": {},
   "source": [
    "---\n",
    "comments: true\n",
    "layout: post\n",
    "title: JavaScript Classes & Methods Homework\n",
    "description: The JavaScript Classes & Methods Homework assignment for the JavaScript Fundamentals course.\n",
    "author: Lucas Masterson\n",
    "permalink: /csse/javascript/fundamentals/mathematic-expressions/hw/\n",
    "categories: [JavaScript Fundamentals]\n",
    "---"
   ]
  },
  {
   "cell_type": "markdown",
   "metadata": {},
   "source": [
    "## Problem 1: Basic Arithmetic\n",
    "Define two variables, `a` and `b`, with values of your choice. Compute the following operations and log each result to the console:\n",
    "1. Sum of `a` and `b`\n",
    "2. Difference of `a` and `b`\n",
    "3. Product of `a` and `b`\n",
    "4. Quotient of `a` divided by `b`\n",
    "\n",
    "Console.log code \n",
    "\n",
    "console.log(\"Sum:\", a + b);          \n",
    "console.log(\"Difference:\", a - b);   \n",
    "console.log(\"Product:\", a * b);      \n",
    "console.log(\"Quotient:\", a / b);"
   ]
  },
  {
   "cell_type": "markdown",
   "metadata": {},
   "source": [
    "## Problem 2: Modulus Operator\n",
    "Define two numbers, `num1` and `num2`. Use the modulus operator `%` to find the remainder when `num1` is divided by `num2`. Log the result to the console.\n",
    "### Instructions:\n",
    "1. Define a variable `num1` (the dividend).\n",
    "2. Define a variable `num2` (the divisor).\n",
    "3. Use the modulus operator `num1 % num2` to calculate the remainder.\n",
    "4. Log the result to the console using `console.log()`.\n",
    " \n",
    "console.log code \n",
    "\n",
    "console.log(\"Remainder:\", YOURVARIABLE (CORRECT MATHEMATICAL OPERATION) YOUROTHERVARIABLE);  // Output: 1"
   ]
  },
  {
   "cell_type": "markdown",
   "metadata": {},
   "source": [
    "## Problem 3: Increment and Decrement\n",
    "Define a variable `count` and set it to an initial value. Increment and then decrement the variable in two different ways:\n",
    "1. Using the `++` and `--` operators.\n",
    "2. Using the `+=` and `-=` operators.\n",
    "Log the result after each operation.\n",
    "### Instructions:\n",
    "1. Define a variable `count` and assign it an initial value (e.g., 10).\n",
    "2. Use `++` to increment the variable by 1 and log the result.\n",
    "3. Use `--` to decrement the variable by 1 and log the result.\n",
    "4. Use `+=` to increment the variable by a specific value and log the result.\n",
    "5. Use `-=` to decrement the variable by a specific value and log the result.\n",
    "6. Log result 3 times (Use these operations to increment/decremnt your number atleast 3 times)\n",
    "### Example:\n",
    "```javascript\n",
    "let count = 10;\n",
    "console.log(\"Initial Count:\", count);  // Output: 10\n",
    "// Increment using ++\n",
    "count++;"
   ]
  },
  {
   "cell_type": "code",
   "execution_count": 6,
   "metadata": {
    "vscode": {
     "languageId": "javascript"
    }
   },
   "outputs": [
    {
     "data": {
      "application/javascript": "\n//Problem 1\n\nlet a = 60;\nlet b = 13;\n\n    console.log(\"Sum:\", a + b);          \n    console.log(\"Difference:\", a - b);   \n    console.log(\"Product:\", a * b);      \n    console.log(\"Quotient:\", a / b);\n\n//        Output: Sum: 73\n//        Difference: 47\n//        Product: 780\n//        Quotient: 4.615384615384615...\n",
      "text/plain": [
       "<IPython.core.display.Javascript object>"
      ]
     },
     "metadata": {},
     "output_type": "display_data"
    }
   ],
   "source": [
    "%%js\n",
    "\n",
    "//Problem 1\n",
    "\n",
    "let a = 60;\n",
    "let b = 13;\n",
    "\n",
    "    console.log(\"Sum:\", a + b);          \n",
    "    console.log(\"Difference:\", a - b);   \n",
    "    console.log(\"Product:\", a * b);      \n",
    "    console.log(\"Quotient:\", a / b);\n",
    "\n",
    "//        Output: Sum: 73\n",
    "//        Difference: 47\n",
    "//        Product: 780\n",
    "//        Quotient: 4.615384615384615..."
   ]
  },
  {
   "cell_type": "code",
   "execution_count": null,
   "metadata": {
    "vscode": {
     "languageId": "javascript"
    }
   },
   "outputs": [
    {
     "data": {
      "application/javascript": "\n//Problem 2\n\nlet num1 = 5;\nconst num2 = 200;\n\n    console.log(\"Remainder:\", num1 % num2);  // Output: 5\n\n",
      "text/plain": [
       "<IPython.core.display.Javascript object>"
      ]
     },
     "metadata": {},
     "output_type": "display_data"
    }
   ],
   "source": [
    "%%js \n",
    "\n",
    "//Problem 2\n",
    "\n",
    "let num1 = 5;\n",
    "let num2 = 200;\n",
    "\n",
    "    console.log(\"Remainder:\", num1 % num2);  // Output: 5\n",
    "\n"
   ]
  },
  {
   "cell_type": "code",
   "execution_count": 18,
   "metadata": {
    "vscode": {
     "languageId": "javascript"
    }
   },
   "outputs": [
    {
     "data": {
      "application/javascript": "\n// Problem 3\n\nlet count = 10;\nconsole.log(\"Initial Count:\", count);  // Output: 10\n\n// Increment using ++\ncount++;\nconsole.log(\"After Increment using ++:\", count);  // Output: 11\n\n// Decrement using --\ncount--;\nconsole.log(\"After Decrement using --:\", count);  // Output: 10\n\n// Increment using +=\ncount += 5;\nconsole.log(\"After Increment using += 5:\", count);  // Output: 15\n\n// Decrement using -=\ncount -= 3;\nconsole.log(\"After Decrement using -= 3:\", count);  // Output: 12\n",
      "text/plain": [
       "<IPython.core.display.Javascript object>"
      ]
     },
     "metadata": {},
     "output_type": "display_data"
    }
   ],
   "source": [
    "%%js\n",
    "\n",
    "// Problem 3\n",
    "\n",
    "let count = 10;\n",
    "console.log(\"Initial Count:\", count);  // Output: 10\n",
    "\n",
    "// Increment using ++\n",
    "count++;\n",
    "console.log(\"After Increment using ++:\", count);  // Output: 11\n",
    "\n",
    "// Decrement using --\n",
    "count--;\n",
    "console.log(\"After Decrement using --:\", count);  // Output: 10\n",
    "\n",
    "// Increment using +=\n",
    "count += 5;\n",
    "console.log(\"After Increment using += 5:\", count);  // Output: 15\n",
    "\n",
    "// Decrement using -=\n",
    "count -= 3;\n",
    "console.log(\"After Decrement using -= 3:\", count);  // Output: 12"
   ]
  }
 ],
 "metadata": {
  "kernelspec": {
   "display_name": "venv",
   "language": "python",
   "name": "python3"
  },
  "language_info": {
   "codemirror_mode": {
    "name": "ipython",
    "version": 3
   },
   "file_extension": ".py",
   "mimetype": "text/x-python",
   "name": "python",
   "nbconvert_exporter": "python",
   "pygments_lexer": "ipython3",
   "version": "3.12.3"
  }
 },
 "nbformat": 4,
 "nbformat_minor": 2
}
