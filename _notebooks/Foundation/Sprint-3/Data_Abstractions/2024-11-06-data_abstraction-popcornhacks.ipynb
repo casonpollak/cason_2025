{
 "cells": [
  {
   "cell_type": "code",
   "execution_count": null,
   "metadata": {},
   "outputs": [],
   "source": [
    "---\n",
    "comments: True\n",
    "layout: post \n",
    "title: Data Abstraction Hacks\n",
    "description: An intro to data abstraction\n",
    "permalink: /csse/javascript/fundamentals/data-abstraction-hacks\n",
    "type: ccc\n",
    "author: Veera Kalakota, Santhosh Karthik, Akhil Kulkarni\n",
    "---"
   ]
  },
  {
   "cell_type": "markdown",
   "metadata": {},
   "source": [
    "# Popcorn Hack #1\n",
    "Create a child class of the class **Appliance**, and call it's name() function"
   ]
  },
  {
   "cell_type": "code",
   "execution_count": null,
   "metadata": {
    "vscode": {
     "languageId": "javascript"
    }
   },
   "outputs": [
    {
     "data": {
      "application/javascript": "    class Appliance {\n        constructor(name) {\n            this.name = name;\n        }\n        getName() {\n            return \"I am a \" + this.constructor.name + \" and my model is \" + this.name;\n        }\n    }\n    // Below this name the class and cause it to inherit from the Appliance class\n    class Microwave extends Appliance {\n        constructor(name) {\n            super(name);\n        }\n    }\n\nvar myMicrowave = new Microwave(\"Panasonic\");\nconsole.log(myMicrowave.getName());\n",
      "text/plain": [
       "<IPython.core.display.Javascript object>"
      ]
     },
     "metadata": {},
     "output_type": "display_data"
    }
   ],
   "source": [
    "%%js \n",
    "    class Appliance {\n",
    "        constructor(name) {\n",
    "            this.name = name;\n",
    "        }\n",
    "        getName() {\n",
    "            return \"I am a \" + this.constructor.name + \" and my model is \" + this.name;\n",
    "        }\n",
    "    }\n",
    "    // Below this name the class and cause it to inherit from the Appliance class\n",
    "    class Microwave extends Appliance {\n",
    "        constructor(name) {\n",
    "            super(name);\n",
    "        }\n",
    "    }\n",
    "\n",
    "let myMicrowave = new Microwave(\"Panasonic\");\n",
    "console.log(myMicrowave.getName());"
   ]
  },
  {
   "cell_type": "markdown",
   "metadata": {},
   "source": [
    "### Popcorn Hack #2\n",
    "Create child classes of the product class with items, and add parameters depending on what it is. An example is provided of a bagel."
   ]
  },
  {
   "cell_type": "code",
   "execution_count": 11,
   "metadata": {
    "vscode": {
     "languageId": "javascript"
    }
   },
   "outputs": [
    {
     "data": {
      "application/javascript": "    class Product{\n        constructor(price, size, taxRate) {\n            this.price = price;\n            this.size = size;\n            this.taxRate = taxRate;\n        }   \n        getPrice() {\n            return this.price + this.taxRate * this.price;\n        }\n        product(){\n            const className = this.constructor.name.toLowerCase();\n            return \"You are ordering a \" + className + \" with a price of \" + this.getPrice() + \" dollars, a size of \" + this.size;\n        }\n    }\n    class Pizza extends Product{\n        constructor(price, size, taxRate, topping) {\n            super(price, size, taxRate);\n            this.topping = topping;\n        }\n        getPrice(){\n            let sizeMultiplier;\n            switch(this.size) {\n                case 'small':\n                    sizeMultiplier = 1;\n                    break;\n                case 'medium':\n                    sizeMultiplier = 1.5;\n                    break;\n                case 'large':\n                    sizeMultiplier = 2;\n                    break;\n                default:\n                    sizeMultiplier = 1;\n            }\n            return Math.round(super.getPrice() * sizeMultiplier);\n        }\n        product(){\n            return super.product() + \" and a topping of \" + this.topping;\n        }\n    }\nvar pepperoniPizza = new Pizza(10, 'medium', 0.08, \"pepperoni\");\nconsole.log(pepperoniPizza.product());\n",
      "text/plain": [
       "<IPython.core.display.Javascript object>"
      ]
     },
     "metadata": {},
     "output_type": "display_data"
    }
   ],
   "source": [
    "%%js\n",
    "    class Product{\n",
    "        constructor(price, size, taxRate) {\n",
    "            this.price = price;\n",
    "            this.size = size;\n",
    "            this.taxRate = taxRate;\n",
    "        }   \n",
    "        getPrice() {\n",
    "            return this.price + this.taxRate * this.price;\n",
    "        }\n",
    "        product(){\n",
    "            const className = this.constructor.name.toLowerCase();\n",
    "            return \"You are ordering a \" + className + \" with a price of \" + this.getPrice() + \" dollars, a size of \" + this.size;\n",
    "        }\n",
    "    }\n",
    "    class Pizza extends Product{\n",
    "        constructor(price, size, taxRate, topping) {\n",
    "            super(price, size, taxRate);\n",
    "            this.topping = topping;\n",
    "        }\n",
    "        getPrice(){\n",
    "            let sizeMultiplier;\n",
    "            switch(this.size) {\n",
    "                case 'small':\n",
    "                    sizeMultiplier = 1;\n",
    "                    break;\n",
    "                case 'medium':\n",
    "                    sizeMultiplier = 1.5;\n",
    "                    break;\n",
    "                case 'large':\n",
    "                    sizeMultiplier = 2;\n",
    "                    break;\n",
    "                default:\n",
    "                    sizeMultiplier = 1;\n",
    "            }\n",
    "            return Math.round(super.getPrice() * sizeMultiplier);\n",
    "        }\n",
    "        product(){\n",
    "            return super.product() + \" and a topping of \" + this.topping;\n",
    "        }\n",
    "    }\n",
    "var pepperoniPizza = new Pizza(10, 'medium', 0.08, \"pepperoni\");\n",
    "console.log(pepperoniPizza.product());"
   ]
  },
  {
   "cell_type": "code",
   "execution_count": null,
   "metadata": {
    "vscode": {
     "languageId": "javascript"
    }
   },
   "outputs": [],
   "source": []
  }
 ],
 "metadata": {
  "kernelspec": {
   "display_name": "venv",
   "language": "python",
   "name": "python3"
  },
  "language_info": {
   "codemirror_mode": {
    "name": "ipython",
    "version": 3
   },
   "file_extension": ".py",
   "mimetype": "text/x-python",
   "name": "python",
   "nbconvert_exporter": "python",
   "pygments_lexer": "ipython3",
   "version": "3.12.3"
  }
 },
 "nbformat": 4,
 "nbformat_minor": 2
}
