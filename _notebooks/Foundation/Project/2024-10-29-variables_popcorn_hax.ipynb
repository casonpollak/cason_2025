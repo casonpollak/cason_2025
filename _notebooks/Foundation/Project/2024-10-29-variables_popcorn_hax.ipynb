{
 "cells": [
  {
   "cell_type": "markdown",
   "metadata": {},
   "source": [
    "# <span style=\"color: lavender; text-shadow: 2px 2px 5px lavender;\">Variables Hacks </span>\n",
    "\n",
    " Taught by Aria, Cason, and Ethan"
   ]
  }
 ],
 "metadata": {
  "language_info": {
   "name": "python"
  }
 },
 "nbformat": 4,
 "nbformat_minor": 2
}
