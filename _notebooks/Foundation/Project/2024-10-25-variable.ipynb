{
 "cells": [
  {
   "attachments": {},
   "cell_type": "raw",
   "metadata": {
    "vscode": {
     "languageId": "raw"
    }
   },
   "source": [
    "---\n",
    "layout: post\n",
    "title: JavaScript Variables\n",
    "description: JavaScript Variables\n",
    "categories: [JavaScript]\n",
    "comments: True\n",
    "---"
   ]
  },
  {
   "cell_type": "markdown",
   "metadata": {},
   "source": [
    "\n",
    "# <span style=\"color: lavender; text-shadow: 2px 2px 5px lavender;\">Variables</span>\n",
    "\n",
    " Taught by Aria, Cason, and Ethan\n",
    "\n"
   ]
  },
  {
   "cell_type": "markdown",
   "metadata": {},
   "source": [
    "## <span style=\"color: lavender; text-shadow: 2px 2px 5px lavender;\">What are variables in JavaScript?</span>\n",
    "Variables in JavaScript are used to store data that can be referenced and manipulated in a program. They act as containers for values and can hold different types of data, such as numbers, strings, objects, and more."
   ]
  },
  {
   "cell_type": "markdown",
   "metadata": {},
   "source": [
    "The three types of keywords for a variable declaration in JavaScript are\n",
    " var, let, and const. \n",
    " \n",
    " **NOTE:** Var is an outdated keyword in Javascript. \n",
    "\n",
    " **const:** used when you declare a new Array or a new Object."
   ]
  }
 ],
 "metadata": {
  "kernelspec": {
   "display_name": "venv",
   "language": "python",
   "name": "python3"
  },
  "language_info": {
   "codemirror_mode": {
    "name": "ipython",
    "version": 3
   },
   "file_extension": ".py",
   "mimetype": "text/x-python",
   "name": "python",
   "nbconvert_exporter": "python",
   "pygments_lexer": "ipython3",
   "version": "3.12.3"
  }
 },
 "nbformat": 4,
 "nbformat_minor": 4
}
