{
 "cells": [
  {
   "cell_type": "raw",
   "metadata": {
    "vscode": {
     "languageId": "raw"
    }
   },
   "source": [
    "---\n",
    "author: Cason Pollak\n",
    "layout: post\n",
    "title: Operators blog\n",
    "description: My blog about operators in JavaScript.\n",
    "permalink: /final/operators/\n",
    "categories: ['8 Blogs']\n",
    "toc: true\n",
    "comments: true\n",
    "---"
   ]
  },
  {
   "cell_type": "markdown",
   "metadata": {},
   "source": [
    "# Student Lessons Blog: Operators in JavaScript\n",
    "\n",
    "## Introduction\n",
    "Operators in JavaScript allow us to perform actions on values and variables. In this lesson, we will explore:\n",
    "1. **String Operations** (Concatenation, Template Literals)\n",
    "2. **Mathematical Operations** (Arithmetic, Modulus, Exponentiation)\n",
    "3. **Boolean Expressions** (Comparison, Logical Operators)\n",
    "\n",
    "Let's dive into each topic with explanations and examples!\n",
    "\n",
    "---\n",
    "\n",
    "## 1. String Operations\n",
    "String operations help manipulate text. Common operations include:\n",
    "- **Concatenation (`+`)**\n",
    "- **Template Literals (`` ` ``)**\n",
    "- **String Methods (`.toUpperCase()`, `.length`)**\n",
    "\n"
   ]
  },
  {
   "cell_type": "code",
   "execution_count": null,
   "metadata": {
    "vscode": {
     "languageId": "javascript"
    }
   },
   "outputs": [],
   "source": [
    "%%js \n",
    "\n",
    "export class PlayerBase extends Character {\n",
    "   \n",
    "    updateAnimationState(key) {\n",
    "        switch (key) {\n",
    "            case 'a':\n",
    "            case 'd':\n",
    "                this.state.animation = 'walk';\n",
    "                break;\n",
    "            case 'w':\n",
    "                if (this.state.movement.up === false) {\n",
    "                    this.state.movement.up = true;\n",
    "                    this.state.animation = 'jump';\n",
    "                }\n",
    "                break;\n",
    "            case 's':\n",
    "                if (\"a\" in this.pressedKeys || \"d\" in this.pressedKeys) {\n",
    "                    this.state.animation = 'run';\n",
    "                }\n",
    "                break;\n",
    "            default:\n",
    "                this.state.animation = 'idle';\n",
    "                break;\n",
    "        }\n",
    "    }\n",
    " \n",
    "}"
   ]
  },
  {
   "cell_type": "markdown",
   "metadata": {},
   "source": [
    "The updateAnimationState method in the PlayerBase class compares strings to determine the player's animation state based on the pressed key."
   ]
  },
  {
   "cell_type": "markdown",
   "metadata": {},
   "source": [
    "## 2. Mathematical Operations\n",
    "JavaScript supports basic arithmetic operations:\n",
    "\n",
    "- Addition (+)\n",
    "- Subtraction (-)\n",
    "- Multiplication (*)\n",
    "- Division (/)\n",
    "- Modulus (%)\n",
    "- Exponentiation (**)"
   ]
  },
  {
   "cell_type": "code",
   "execution_count": null,
   "metadata": {
    "vscode": {
     "languageId": "javascript"
    }
   },
   "outputs": [],
   "source": [
    "%%js \n",
    "\n",
    "export class PlayerGreece extends PlayerBase {\n",
    "\n",
    "    updateJump() {\n",
    "        let jumpHeightFactor;\n",
    "        if (GameEnv.difficulty === \"easy\") {\n",
    "            jumpHeightFactor = 0.45;\n",
    "        } else if (GameEnv.difficulty === \"normal\") {\n",
    "            jumpHeightFactor = 0.35;\n",
    "        } else {\n",
    "            jumpHeightFactor = 0.30;    \n",
    "        }\n",
    "        this.setY(this.y - (this.bottom * jumpHeightFactor)); // Calculate jump height\n",
    "    }\n",
    "\n",
    "}"
   ]
  },
  {
   "cell_type": "markdown",
   "metadata": {},
   "source": [
    "The updateJump method in the PlayerGreece class uses mathematical operations to calculate the player's jump height based on the game difficulty."
   ]
  },
  {
   "cell_type": "markdown",
   "metadata": {},
   "source": [
    "## 3. Boolean Expressions\n",
    "Boolean expressions evaluate to true or false using:\n",
    "\n",
    "- Comparison Operators (==, ===, !=, !==, >, <, >=, <=)\n",
    "- Logical Operators (&&, ||, !)"
   ]
  },
  {
   "cell_type": "code",
   "execution_count": null,
   "metadata": {
    "vscode": {
     "languageId": "javascript"
    }
   },
   "outputs": [],
   "source": [
    "%%js \n",
    "\n",
    "export class GameEnv {\n",
    "\n",
    "    static update() {\n",
    "        // Update game state, including all game objects\n",
    "        // if statement prevents game from updating upon player death\n",
    "        if (GameEnv.player === null || GameEnv.player.state.isDying === false) {\n",
    "            for (const gameObject of GameEnv.gameObjects) {\n",
    "                gameObject.update();\n",
    "                gameObject.serialize();\n",
    "                gameObject.draw();\n",
    "            } \n",
    "        }\n",
    "    }\n",
    "  \n",
    "}"
   ]
  },
  {
   "cell_type": "markdown",
   "metadata": {},
   "source": [
    "The update method in the GameEnv class uses a boolean expression to check if the player is not dying before updating game objects."
   ]
  },
  {
   "cell_type": "markdown",
   "metadata": {},
   "source": [
    "## Conclusion\n",
    "In this lesson, we covered:\n",
    "\n",
    "String Operations: Concatenation, template literals, and string methods.\n",
    "Mathematical Operations: Arithmetic, modulus, and exponentiation.\n",
    "Boolean Expressions: Comparison and logical operators."
   ]
  }
 ],
 "metadata": {
  "language_info": {
   "name": "python"
  }
 },
 "nbformat": 4,
 "nbformat_minor": 2
}
