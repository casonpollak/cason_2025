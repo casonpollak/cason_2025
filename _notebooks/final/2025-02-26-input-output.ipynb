{
 "cells": [
  {
   "cell_type": "raw",
   "metadata": {
    "vscode": {
     "languageId": "raw"
    }
   },
   "source": [
    "---\n",
    "author: Cason Pollak\n",
    "layout: post\n",
    "title:  Input/Output Blog\n",
    "description: My blog about HTML5 input, validation, Document Object Model (DOM). \n",
    "permalink: /final/input-output/\n",
    "categories: ['8 Blogs']\n",
    "toc: true\n",
    "comments: true\n",
    "---"
   ]
  },
  {
   "cell_type": "markdown",
   "metadata": {},
   "source": [
    "\n",
    "# Input/Output in JavaScript\n",
    "\n",
    "### 1. HTML5 Input Fields\n",
    "HTML5 provides input elements to collect user input in forms.\n",
    "\n"
   ]
  },
  {
   "cell_type": "code",
   "execution_count": 5,
   "metadata": {
    "vscode": {
     "languageId": "html"
    }
   },
   "outputs": [
    {
     "data": {
      "text/html": [
       "<!DOCTYPE html>\n",
       "<form id=\"userForm\">\n",
       "  <label for=\"name\">Name:</label>\n",
       "  <input type=\"text\" id=\"name\" name=\"name\" required>\n",
       "  <label for=\"email\">Email:</label>\n",
       "  <input type=\"email\" id=\"email\" name=\"email\" required>\n",
       "  <button type=\"submit\">Submit</button>\n",
       "</form>\n"
      ],
      "text/plain": [
       "<IPython.core.display.HTML object>"
      ]
     },
     "metadata": {},
     "output_type": "display_data"
    }
   ],
   "source": [
    "%%HTML\n",
    "<!DOCTYPE html>\n",
    "<form id=\"userForm\">\n",
    "  <label for=\"name\">Name:</label>\n",
    "  <input type=\"text\" id=\"name\" name=\"name\" required>\n",
    "  <label for=\"email\">Email:</label>\n",
    "  <input type=\"email\" id=\"email\" name=\"email\" required>\n",
    "  <button type=\"submit\">Submit</button>\n",
    "</form>"
   ]
  },
  {
   "cell_type": "markdown",
   "metadata": {},
   "source": [
    "### 2. Form Validation\n",
    "Validation ensures user input meets specific criteria before being processed.\n"
   ]
  },
  {
   "cell_type": "code",
   "execution_count": 6,
   "metadata": {
    "vscode": {
     "languageId": "javascript"
    }
   },
   "outputs": [
    {
     "data": {
      "application/javascript": "\n\ndocument.getElementById(\"userForm\").addEventListener(\"submit\", function(event) {\n    let name = document.getElementById(\"name\").value;\n    let email = document.getElementById(\"email\").value;\n    if (name.length < 3) {\n      alert(\"Name must be at least 3 characters long.\");\n      event.preventDefault();\n    }\n    let emailPattern = /^[a-zA-Z0-9._%+-]+@[a-zA-Z0-9.-]+\\.[a-zA-Z]{2,}$/;\n    if (!emailPattern.test(email)) {\n      alert(\"Enter a valid email address.\");\n      event.preventDefault();\n    }\n  });\n",
      "text/plain": [
       "<IPython.core.display.Javascript object>"
      ]
     },
     "metadata": {},
     "output_type": "display_data"
    }
   ],
   "source": [
    "%%js \n",
    "\n",
    "\n",
    "document.getElementById(\"userForm\").addEventListener(\"submit\", function(event) {\n",
    "    let name = document.getElementById(\"name\").value;\n",
    "    let email = document.getElementById(\"email\").value;\n",
    "    if (name.length < 3) {\n",
    "      alert(\"Name must be at least 3 characters long.\");\n",
    "      event.preventDefault();\n",
    "    }\n",
    "    let emailPattern = /^[a-zA-Z0-9._%+-]+@[a-zA-Z0-9.-]+\\.[a-zA-Z]{2,}$/;\n",
    "    if (!emailPattern.test(email)) {\n",
    "      alert(\"Enter a valid email address.\");\n",
    "      event.preventDefault();\n",
    "    }\n",
    "  });"
   ]
  },
  {
   "cell_type": "markdown",
   "metadata": {},
   "source": [
    "\n",
    "\n",
    "### 3. Document Object Model (DOM)\n",
    "The DOM allows JavaScript to access, modify, and interact with HTML elements dynamically.\n",
    "\n",
    "Key DOM Methods for Input/Output:\n",
    "- `document.getElementById(id)`: Selects an element by its ID.\n",
    "- `document.querySelector(selector)`: Selects the first matching element.\n",
    "- `document.querySelectorAll(selector)`: Selects all matching elements.\n",
    "- `element.innerHTML`: Modifies or retrieves the content inside an element.\n",
    "- `element.textContent`: Similar to `innerHTML` but excludes HTML formatting.\n",
    "- `element.value`: Gets or sets the value of an input field.\n",
    "\n",
    "### Handling User Input Using JavaScript and the DOM\n",
    "JavaScript can capture and process user input in real-time."
   ]
  },
  {
   "cell_type": "code",
   "execution_count": 3,
   "metadata": {
    "vscode": {
     "languageId": "html"
    }
   },
   "outputs": [
    {
     "data": {
      "text/html": [
       "<!DOCTYPE html>\n",
       "<input type=\"text\" id=\"username\" placeholder=\"Enter your name\">\n",
       "<button onclick=\"displayMessage()\">Submit</button>\n",
       "<p id=\"message\"></p>\n",
       "<script>\n",
       "  function displayMessage() {\n",
       "    let userInput = document.getElementById(\"username\").value;\n",
       "    document.getElementById(\"message\").textContent = \"Hello, \" + userInput + \"!\";\n",
       "  }\n",
       "</script>\n"
      ],
      "text/plain": [
       "<IPython.core.display.HTML object>"
      ]
     },
     "metadata": {},
     "output_type": "display_data"
    }
   ],
   "source": [
    "%%HTML\n",
    "<!DOCTYPE html>\n",
    "<input type=\"text\" id=\"username\" placeholder=\"Enter your name\">\n",
    "<button onclick=\"displayMessage()\">Submit</button>\n",
    "<p id=\"message\"></p>\n",
    "<script>\n",
    "  function displayMessage() {\n",
    "    let userInput = document.getElementById(\"username\").value;\n",
    "    document.getElementById(\"message\").textContent = \"Hello, \" + userInput + \"!\";\n",
    "  }\n",
    "</script>"
   ]
  }
 ],
 "metadata": {
  "kernelspec": {
   "display_name": "venv",
   "language": "python",
   "name": "python3"
  },
  "language_info": {
   "codemirror_mode": {
    "name": "ipython",
    "version": 3
   },
   "file_extension": ".py",
   "mimetype": "text/x-python",
   "name": "python",
   "nbconvert_exporter": "python",
   "pygments_lexer": "ipython3",
   "version": "3.12.3"
  }
 },
 "nbformat": 4,
 "nbformat_minor": 2
}
