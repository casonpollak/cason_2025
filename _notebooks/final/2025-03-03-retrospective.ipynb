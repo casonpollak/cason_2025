{
 "cells": [
  {
   "cell_type": "raw",
   "metadata": {
    "vscode": {
     "languageId": "raw"
    }
   },
   "source": [
    "---\n",
    "author: Cason Pollak\n",
    "layout: post\n",
    "title: Retrospective of CSSE\n",
    "description: Reflecting on CSSE\n",
    "permalink: /final/retrospective/\n",
    "categories: ['8 Blogs']\n",
    "toc: true\n",
    "comments: true\n",
    "---\n"
   ]
  },
  {
   "cell_type": "markdown",
   "metadata": {},
   "source": [
    "### Self-reflection of strengths and weaknesses\n",
    "\n",
    "Throughout CSSE 1 and 2, I have learned many valuable skills. I have improved my ability to plan efficiently, communicate effectively, make complex topics more understandable, and write object-oriented code using JavaScript.\n",
    "\n",
    "I believe I excelled in communication within my group, assisting others, and organizing tasks. I particularly enjoyed having a well-structured plan, as it made the coding process feel much smoother and more manageable.\n",
    "\n",
    "However, there are areas where I can improve. One challenge I face is staying focused for the entire class period. While I am highly engaged at the start, I tend to lose focus during the last 10-15 minutes. To fix this, I plan to eliminate distractions during class.\n",
    "\n",
    "Another area for growth is asking for help when needed. When I encountered challenges while adding new features to the game, I often hesitated to seek assistance and instead spent too much time troubleshooting on my own. Moving forward, I can improve by reaching out to classmates or Mr. Mortenson for guidance when needed.\n",
    "\n",
    "Overall, CSSE has helped me develop not just my coding skills but also my planning, organization, and communication abilities. These skills will continue to benefit me in future projects and teamwork situations. "
   ]
  },
  {
   "cell_type": "markdown",
   "metadata": {},
   "source": [
    "### Plans for the future \n",
    "\n",
    "If I had more time to work on the platformer game, I would really like to make the game more informative. What I mean by this is that if a level has a key mechanic or feature the player needs to know about, there should be an on-screen message explaining it. For example, in the Quidditch level, the player must collect the wand and press 'B' to progress to the next level. I think it would be a great idea to display text at the beginning of each level to inform the player of these mechanics, making the gameplay experience smoother and more intuitive.\n",
    "\n",
    "Another thing I would have liked to improve is the jumping mechanic. Many people in my group have attempted to fix the jump, but no one has been able to do so successfully without breaking the game. Because of the challenges my classmates faced, I initially chose not to work on it. However, after some consideration, I think it would be an interesting challenge to take on, and I would love to attempt a solution."
   ]
  }
 ],
 "metadata": {
  "language_info": {
   "name": "python"
  }
 },
 "nbformat": 4,
 "nbformat_minor": 2
}
