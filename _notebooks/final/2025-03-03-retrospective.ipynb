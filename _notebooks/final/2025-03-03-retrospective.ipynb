{
 "cells": [
  {
   "cell_type": "raw",
   "metadata": {
    "vscode": {
     "languageId": "raw"
    }
   },
   "source": [
    "---\n",
    "author: Cason Pollak\n",
    "layout: post\n",
    "title: Retrospective of CSSE\n",
    "description: Reflecting on CSSE\n",
    "permalink: /final/retrospective/\n",
    "categories: ['Final']\n",
    "toc: true\n",
    "comments: true\n",
    "---\n",
    "\n",
    "\n",
    "\n",
    "\n"
   ]
  }
 ],
 "metadata": {
  "language_info": {
   "name": "python"
  }
 },
 "nbformat": 4,
 "nbformat_minor": 2
}
