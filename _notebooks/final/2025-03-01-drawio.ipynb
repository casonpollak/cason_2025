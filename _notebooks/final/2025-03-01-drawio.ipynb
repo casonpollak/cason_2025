{
 "cells": [
  {
   "cell_type": "raw",
   "metadata": {
    "vscode": {
     "languageId": "raw"
    }
   },
   "source": [
    "---\n",
    "author: Cason Pollak\n",
    "layout: post\n",
    "title: Final Game Feature & Draw.io Diagram\n",
    "description: Draw.io diagram of the main files in the platformer game and code of the final game feature.\n",
    "permalink: /final/game-feature/\n",
    "categories: ['Final']\n",
    "toc: true\n",
    "comments: true\n",
    "---"
   ]
  },
  {
   "cell_type": "markdown",
   "metadata": {},
   "source": [
    "### Draw.io"
   ]
  },
  {
   "cell_type": "markdown",
   "metadata": {},
   "source": [
    "![Platform game diagram](drawioPlatformer.png)\n"
   ]
  },
  {
   "cell_type": "markdown",
   "metadata": {},
   "source": [
    "### My change\n",
    "\n",
    "My final change to the platformer game was change the ending of the Greece level. I changed it to where you would have to capture the flag and bring it to the island in order to go to the next level. I did this by changing and creating new code."
   ]
  },
  {
   "cell_type": "markdown",
   "metadata": {},
   "source": [
    "## 1. Create Flag.js"
   ]
  },
  {
   "cell_type": "markdown",
   "metadata": {},
   "source": [
    "The first thing that I did was create a new js file called Flag.js. The Flag.js file defines a Flag class that represents a collectible flag in the game. The flag can be collected by the player, and when collected, it is removed from the game and a sound effect is played. The class includes methods for initializing the flag, drawing it on the canvas, setting its size, and handling collisions with the player."
   ]
  },
  {
   "cell_type": "code",
   "execution_count": null,
   "metadata": {
    "vscode": {
     "languageId": "javascript"
    }
   },
   "outputs": [],
   "source": [
    "%%js \n",
    "\n",
    "import GameEnv from './GameEnv.js';\n",
    "import Coin from './Coin.js';\n",
    "\n",
    "export class Flag extends Coin {\n",
    "    constructor(canvas, image, data, xPercentage, yPercentage) {\n",
    "        super(canvas, image, data, xPercentage, yPercentage);\n",
    "        this.x = xPercentage * GameEnv.innerWidth;\n",
    "        this.y = yPercentage * GameEnv.bottom;\n",
    "        this.size();\n",
    "        this.id = this.initiateId()\n",
    "        this.scaleSize = data?.scaleSize || 80;\n",
    "    }\n",
    "    draw() {\n",
    "        this.ctx.drawImage(this.image, 0, 0, this.canvas.width, this.canvas.height);\n",
    "    }\n",
    "    size() {\n",
    "        if (this.id) {\n",
    "            if (GameEnv.hasFlag.includes(this.id)) {\n",
    "                this.hide()\n",
    "            }\n",
    "        }\n",
    "        const scaledHeight = GameEnv.innerHeight * (this.scaleSize / 832);\n",
    "        const scaledWidth = scaledHeight * this.aspect_ratio;\n",
    "        const coinX = this.coinX;\n",
    "        const coinY = (GameEnv.bottom - scaledHeight) * this.coinY;\n",
    "\n",
    "        // Set variables used in Display and Collision algorithms\n",
    "        this.bottom = coinY;\n",
    "        this.collisionHeight = scaledHeight;\n",
    "        this.collisionWidth = scaledWidth;\n",
    "\n",
    "        this.canvas.width = scaledWidth;\n",
    "        this.canvas.height = scaledHeight;\n",
    "        this.canvas.style.width = `${scaledWidth}px`;\n",
    "        this.canvas.style.height = `${scaledHeight}px`;\n",
    "        this.canvas.style.position = 'absolute';\n",
    "        this.canvas.style.left = `${coinX}px`;\n",
    "        this.canvas.style.top = `${coinY}px`;\n",
    "    }\n",
    "    collisionAction() {\n",
    "        // check player collision\n",
    "        if (this.collisionData.touchPoints.other.id === \"player\") {\n",
    "            if (this.id) {\n",
    "                GameEnv.hasFlag.push(this.id)\n",
    "            }\n",
    "            this.destroy();\n",
    "\n",
    "            GameEnv.playSound(\"coin\");\n",
    "\n",
    "            \n",
    "        }\n",
    "    }\n",
    "}\n",
    "export default Flag;"
   ]
  },
  {
   "cell_type": "markdown",
   "metadata": {},
   "source": [
    "## 2. Create a static array\n",
    "\n",
    "I created a static array in GameEnv in order to keep track of the flag that the player collects during the game.\n",
    "\n",
    "(now that I am writing this blog I am realizing that I should have made it a boolean because there is only one flag)"
   ]
  },
  {
   "cell_type": "markdown",
   "metadata": {},
   "source": [
    "## 3. New if-statment\n",
    "\n",
    "I created a new if statment in PlayerGreece.js"
   ]
  },
  {
   "cell_type": "code",
   "execution_count": null,
   "metadata": {
    "vscode": {
     "languageId": "javascript"
    }
   },
   "outputs": [],
   "source": [
    "if(this.collisionData.touchPoints.this.top && GameEnv.hasFlag.length == 1){\n",
    "    const index = GameEnv.levels.findIndex(level => level.tag === \"Quidditch\");\n",
    "    GameControl.transitionToLevel(GameEnv.levels[index]);\n",
    "    break;"
   ]
  },
  {
   "cell_type": "markdown",
   "metadata": {},
   "source": [
    "This if statment checks if the player has touched the island with the flag and if it is equal to 1, it will transition to the next level"
   ]
  }
 ],
 "metadata": {
  "language_info": {
   "name": "python"
  }
 },
 "nbformat": 4,
 "nbformat_minor": 2
}
