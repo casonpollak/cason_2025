{
 "cells": [
  {
   "cell_type": "raw",
   "metadata": {
    "vscode": {
     "languageId": "raw"
    }
   },
   "source": [
    "---\n",
    "author: Cason Pollak\n",
    "layout: post\n",
    "title: N@TM Blog\n",
    "description: My blog about my night at the museum and the feedback I recived. \n",
    "permalink: /final/natm/\n",
    "categories: ['8 Blogs']\n",
    "toc: true\n",
    "comments: true\n",
    "---"
   ]
  },
  {
   "cell_type": "markdown",
   "metadata": {},
   "source": [
    "### N@TM experience\n",
    "\n",
    "My overall N@TM experience was great. I met a lot of new people who are also in computer science. The event really opened my prespective on what others were working on and how similar and different some of our interests were. The room was pretty packed so it was very easy to get people to watch and review my presentation. I got some very kind feedback and some of the feedback helped me think about what I want to do next with the platformer game."
   ]
  },
  {
   "cell_type": "markdown",
   "metadata": {},
   "source": [
    "### Feedback\n",
    "\n",
    "![image.png](natm-reviews.png)"
   ]
  }
 ],
 "metadata": {
  "language_info": {
   "name": "python"
  }
 },
 "nbformat": 4,
 "nbformat_minor": 2
}
