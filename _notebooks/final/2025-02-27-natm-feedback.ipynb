{
 "cells": [
  {
   "cell_type": "raw",
   "metadata": {
    "vscode": {
     "languageId": "raw"
    }
   },
   "source": [
    "---\n",
    "author: Cason Pollak\n",
    "layout: post\n",
    "title: N@TM Blog\n",
    "description: My blog about my night at the museum and the feedback I recived. \n",
    "permalink: /final/natm/\n",
    "categories: ['8 Blogs']\n",
    "toc: true\n",
    "comments: true\n",
    "---"
   ]
  },
  {
   "cell_type": "markdown",
   "metadata": {},
   "source": [
    "### N@TM experience\n",
    "\n",
    "My overall N@TM experience was great. I met a lot of new people who are also in computer science. The event really opened my prespective on what others were working on and how similar and different some of our interests were. The room was pretty packed so it was very easy to get people to watch and review my presentation. I got some very kind feedback and some of the feedback helped me think about what I want to do next with the platformer game."
   ]
  },
  {
   "cell_type": "markdown",
   "metadata": {},
   "source": [
    "### Feedback\n",
    "\n",
    "![image.png](natm-reviews.png)"
   ]
  },
  {
   "cell_type": "markdown",
   "metadata": {},
   "source": [
    "### Taking Intrest\n",
    "https://lalita1809.github.io/flocker_frontend_period4/\n",
    "\n",
    "While at N@TM, I saw a website created by a group of students in CSP, and it seemed very interesting. I decided to approach them and ask a little bit about their project. Their website was an online cookbook featuring recipes from different cuisines around the world.\n",
    "\n",
    "One feature that stood out to me was a spinning wheel with various cuisines on it. When spun, the wheel would randomly select a cuisine and display recipes from that category.\n",
    "\n",
    "I asked one of the students about his specific role in creating the website. He explained that he was responsible for creating the static data and APIs that stored all the recipes displayed on the site. Additionally, he worked on functionality that allowed users to save, edit, and delete recipes.\n",
    "\n",
    "Curious about their inspiration, I asked why their group chose to create a website focused on global recipes. He shared that their team wanted to address a common problem, people often struggle with deciding what to make for lunch or dinner. Their website aims to serve as a helpful resource for anyone facing this problem.\n"
   ]
  }
 ],
 "metadata": {
  "language_info": {
   "name": "python"
  }
 },
 "nbformat": 4,
 "nbformat_minor": 2
}
