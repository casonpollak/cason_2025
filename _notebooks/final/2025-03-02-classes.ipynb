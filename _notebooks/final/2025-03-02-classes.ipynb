{
 "cells": [
  {
   "cell_type": "raw",
   "metadata": {
    "vscode": {
     "languageId": "raw"
    }
   },
   "source": [
    "---\n",
    "author: Cason Pollak\n",
    "layout: post\n",
    "title: Classes blog\n",
    "description: My blog about methods, instantiating objects, using objects, calling methods, parameters, return values.\n",
    "permalink: /final/classes/\n",
    "categories: ['8 Blogs']\n",
    "toc: true\n",
    "comments: true\n",
    "---"
   ]
  },
  {
   "cell_type": "markdown",
   "metadata": {},
   "source": [
    "\n",
    "# Understanding JavaScript Objects and Methods:\n",
    "\n",
    "## 1. Methods\n",
    "\n",
    "A method is a function that belongs to an object. Methods define behaviors or actions that an object can perform.\n",
    "\n",
    "### Example From Game Code:"
   ]
  },
  {
   "cell_type": "code",
   "execution_count": null,
   "metadata": {
    "vscode": {
     "languageId": "javascript"
    }
   },
   "outputs": [],
   "source": [
    "%%js \n",
    "\n",
    "\n",
    "updateJump() {\n",
    "    let jumpHeightFactor;\n",
    "    if (GameEnv.difficulty === \"easy\") {\n",
    "        jumpHeightFactor = 0.50;\n",
    "    } else if (GameEnv.difficulty === \"normal\") {\n",
    "        jumpHeightFactor = 0.40;\n",
    "    }\n",
    "    if (GameEnv.currentLevel.tag == \"narwhalboss\") {\n",
    "        jumpHeightFactor = 0.50;\n",
    "    }\n",
    "    this.setY(this.y - (this.bottom * jumpHeightFactor));\n",
    "}"
   ]
  },
  {
   "cell_type": "markdown",
   "metadata": {},
   "source": [
    "## 2. Instantiating Objects\n",
    "\n",
    "In JavaScript, you can create (instantiate) objects using object literals, the constructor function, or classes.\n",
    "\n",
    "### Example From Game Code:"
   ]
  },
  {
   "cell_type": "code",
   "execution_count": null,
   "metadata": {
    "vscode": {
     "languageId": "javascript"
    }
   },
   "outputs": [],
   "source": [
    "%%js \n",
    "\n",
    "destroy() {\n",
    "    const index = GameEnv.gameObjects.indexOf(this);\n",
    "    if (index !== -1) {\n",
    "        this.canvas.parentNode.removeChild(this.canvas);\n",
    "        GameEnv.gameObjects.splice(index, 1);\n",
    "    }\n",
    "}"
   ]
  },
  {
   "cell_type": "markdown",
   "metadata": {},
   "source": [
    "## 3. Using Objects\n",
    "\n",
    "Once an object is instantiated, you can access or modify its properties and call its methods.\n",
    "\n",
    "### Example From Game Code:"
   ]
  },
  {
   "cell_type": "code",
   "execution_count": null,
   "metadata": {
    "vscode": {
     "languageId": "javascript"
    }
   },
   "outputs": [],
   "source": [
    "%%js \n",
    "\n",
    "if (GameControl.randomEventId === 3 && GameControl.randomEventState === 1) {\n",
    "    this.destroy();\n",
    "    GameControl.endRandomEvent();\n",
    "}"
   ]
  },
  {
   "cell_type": "markdown",
   "metadata": {},
   "source": [
    "## 4. Calling Methods\n",
    "\n",
    "A method is called using dot notation (object.methodName()).\n",
    "\n",
    "### Example From Game Code:\n"
   ]
  },
  {
   "cell_type": "code",
   "execution_count": null,
   "metadata": {
    "vscode": {
     "languageId": "javascript"
    }
   },
   "outputs": [],
   "source": [
    "%%js \n",
    "\n",
    "GameEnv.customTimeout(() => {\n",
    "    this.x = GameEnv.innerWidth + 1;\n",
    "}, 2000);"
   ]
  },
  {
   "cell_type": "markdown",
   "metadata": {},
   "source": [
    "## 5. Parameters in Methods\n",
    "\n",
    "Methods can accept parameters to perform actions based on input values.\n",
    "\n",
    "### Example From Game Code:"
   ]
  },
  {
   "cell_type": "code",
   "execution_count": null,
   "metadata": {
    "vscode": {
     "languageId": "javascript"
    }
   },
   "outputs": [],
   "source": [
    "%%js \n",
    "\n",
    "playerTubeCollision(player, tube) {\n",
    "    const playerRect = player.canvas.getBoundingClientRect();\n",
    "    const tubeRect = tube.canvas.getBoundingClientRect();\n",
    "\n",
    "    const collisionDetected = (\n",
    "        playerRect.right > tubeRect.left &&\n",
    "        playerRect.left < tubeRect.right &&\n",
    "        playerRect.bottom > tubeRect.top &&\n",
    "        playerRect.top < tubeRect.bottom\n",
    "    );\n",
    "}"
   ]
  },
  {
   "cell_type": "markdown",
   "metadata": {},
   "source": [
    "## 6. Return Values\n",
    "\n",
    "A method can return a value that can be used later in the program.\n",
    "\n",
    "### Example From Game Code:"
   ]
  },
  {
   "cell_type": "code",
   "execution_count": null,
   "metadata": {
    "vscode": {
     "languageId": "javascript"
    }
   },
   "outputs": [],
   "source": [
    "%%js\n",
    "\n",
    "if(GameEnv.trashCount.length < 4) {\n",
    "    this.setX(0);\n",
    "    this.setY(500);\n",
    "    this.state.animation = 'idle';\n",
    "    break;\n",
    "}"
   ]
  }
 ],
 "metadata": {
  "language_info": {
   "name": "python"
  }
 },
 "nbformat": 4,
 "nbformat_minor": 2
}
