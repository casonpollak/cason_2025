{
 "cells": [
  {
   "cell_type": "raw",
   "metadata": {
    "vscode": {
     "languageId": "raw"
    }
   },
   "source": [
    "---\n",
    "author: Cason Pollak\n",
    "layout: post\n",
    "title: Control Structures\n",
    "description: My personal blog about control structures in JavaScript\n",
    "permalink: /final/control-structures/\n",
    "categories: ['Final']\n",
    "toc: true\n",
    "comments: true\n",
    "---"
   ]
  },
  {
   "cell_type": "markdown",
   "metadata": {},
   "source": [
    "# Student Lessons Blog: Control Structures in JavaScript\n",
    "\n",
    "## Introduction\n",
    "In this blog, we will explore control structures in JavaScript, specifically focusing on:\n",
    "1. **Iteration** (Loops)  \n",
    "2. **Conditions** (If-Else)  \n",
    "3. **Nested Conditions**  \n",
    "\n",
    "Let's dive into each topic with examples!\n",
    "\n",
    "---\n",
    "\n",
    "## 1. Iteration (Loops)\n",
    "Loops are used to repeat a block of code multiple times. JavaScript provides several types of loops, such as `for`, `while`, and `do-while`.\n",
    "\n"
   ]
  },
  {
   "cell_type": "markdown",
   "metadata": {},
   "source": [
    "Here is an example of an iteration from the platformer game"
   ]
  },
  {
   "cell_type": "code",
   "execution_count": null,
   "metadata": {
    "vscode": {
     "languageId": "javascript"
    }
   },
   "outputs": [],
   "source": [
    "%%js\n",
    "\n",
    "export class GameEnv {\n",
    "  \n",
    "    /**\n",
    "     * Update, serialize, and draw game objects, called by update in GameControl\n",
    "     * @static\n",
    "     */\n",
    "    static update() {\n",
    "        // Update game state, including all game objects\n",
    "        // if statement prevents game from updating upon player death\n",
    "        if (GameEnv.player === null || GameEnv.player.state.isDying === false) {\n",
    "            for (const gameObject of GameEnv.gameObjects) {\n",
    "                gameObject.update();\n",
    "                gameObject.serialize();\n",
    "                gameObject.draw();\n",
    "            } \n",
    "        }\n",
    "    }\n",
    "   \n",
    "}"
   ]
  },
  {
   "cell_type": "markdown",
   "metadata": {},
   "source": [
    "This update method in the GameEnv class iterates over all game objects and performs three actions on each object: updating its state, serializing its data, and drawing it on the canvas."
   ]
  },
  {
   "cell_type": "markdown",
   "metadata": {},
   "source": [
    "## 2. Conditions (If-Else)\n",
    "Conditions are used to execute code based on whether a condition is true or false.\n"
   ]
  },
  {
   "cell_type": "code",
   "execution_count": null,
   "metadata": {
    "vscode": {
     "languageId": "javascript"
    }
   },
   "outputs": [],
   "source": [
    "%%js\n",
    "\n",
    "export class PlayerBase extends Character {\n",
    "  \n",
    "    handlePlayerReaction() {\n",
    "        this.gravityEnabled = true;\n",
    "        switch (this.state.collision) {\n",
    "            case \"jumpPlatform\":\n",
    "                if (this.collisionData.touchPoints.this.onTopofOther) {\n",
    "                    this.state.movement = { up: false, down: false, left: true, right: true, falling: false };\n",
    "                    this.gravityEnabled = false;\n",
    "                } else if (this.collisionData.touchPoints.this.right) {\n",
    "                    this.state.movement = { up: false, down: false, left: true, right: false, falling: false };\n",
    "                    this.y -= 4;\n",
    "                } else if (this.collisionData.touchPoints.this.left) {\n",
    "                    this.state.movement = { up: false, down: false, left: false, right: true, falling: false };\n",
    "                    this.y -= 4;\n",
    "                }\n",
    "                break;\n",
    "            case \"wall\":\n",
    "                if (this.collisionData.touchPoints.this.top && this.collisionData.touchPoints.other.bottom) {\n",
    "                    this.state.movement = { up: false, down: false, left: true, right: true, falling: false };\n",
    "                    this.gravityEnabled = false;\n",
    "                } else if (this.collisionData.touchPoints.this.right) {\n",
    "                    this.state.movement = { up: false, down: false, left: true, right: false, falling: false };\n",
    "                } else if (this.collisionData.touchPoints.this.left) {\n",
    "                    this.state.movement = { up: false, down: false, left: false, right: true, falling: false };\n",
    "                }\n",
    "                break;\n",
    "            case \"floor\":\n",
    "                if (this.onTop) {\n",
    "                    this.state.movement = { up: false, down: false, left: true, right: true, falling: false };\n",
    "                } else {\n",
    "                    this.state.movement = { up: false, down: false, left: true, right: true, falling: true };\n",
    "                }\n",
    "                break;\n",
    "        }\n",
    "    }\n",
    "  \n",
    "}"
   ]
  },
  {
   "cell_type": "markdown",
   "metadata": {},
   "source": [
    "These conditions ensure that the player's movement and gravity are updated based on the player's collision with other objects in the game."
   ]
  },
  {
   "cell_type": "markdown",
   "metadata": {},
   "source": [
    "## 3. Nested Conditions\n",
    "Nested conditions are used when you need to check multiple conditions within another condition."
   ]
  },
  {
   "cell_type": "code",
   "execution_count": null,
   "metadata": {
    "vscode": {
     "languageId": "javascript"
    }
   },
   "outputs": [],
   "source": [
    "%%js\n",
    "\n",
    "if (this.collisionData.touchPoints.other.id === collisionType) {\n",
    "    if (!this.state.collisions.includes(collisionType)) {\n",
    "        this.state.collisions.push(collisionType);\n",
    "    }\n",
    "}"
   ]
  },
  {
   "cell_type": "markdown",
   "metadata": {},
   "source": [
    "Determines if a specific collision type has occurred and updates the player's state accordingly."
   ]
  },
  {
   "cell_type": "markdown",
   "metadata": {},
   "source": [
    "## Conclusion\n",
    "In this blog, we learned:\n",
    "\n",
    "- Iteration: Using loops to repeat code.\n",
    "- Conditions: Using if-else to make decisions.\n",
    "- Nested Conditions: Combining multiple conditions."
   ]
  }
 ],
 "metadata": {
  "language_info": {
   "name": "python"
  }
 },
 "nbformat": 4,
 "nbformat_minor": 2
}
