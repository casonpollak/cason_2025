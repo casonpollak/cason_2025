{
 "cells": [
  {
   "cell_type": "raw",
   "metadata": {
    "vscode": {
     "languageId": "raw"
    }
   },
   "source": [
    "---\n",
    "author: Cason Pollak\n",
    "layout: post\n",
    "title: Data types blog\n",
    "description: My blog about data types in JavaScript.\n",
    "permalink: /final/data-types/\n",
    "categories: ['8 Blogs']\n",
    "toc: true\n",
    "comments: true\n",
    "---"
   ]
  },
  {
   "cell_type": "markdown",
   "metadata": {},
   "source": [
    "# Student Lessons Blog: Data Types in JavaScript\n",
    "\n",
    "## Introduction\n",
    "In this lesson, we will explore fundamental data types in JavaScript, including:\n",
    "1. **Numbers**\n",
    "2. **Strings**\n",
    "3. **Booleans**\n",
    "4. **Arrays**\n",
    "5. **JSON Objects**\n",
    "\n",
    "Let's dive into each topic with explanations and examples!\n",
    "\n",
    "---\n",
    "\n",
    "## 1. Numbers\n",
    "Numbers in JavaScript include both integers and floating-point values. JavaScript uses the `Number` type for all numerical values.\n",
    "\n"
   ]
  },
  {
   "cell_type": "code",
   "execution_count": null,
   "metadata": {
    "vscode": {
     "languageId": "javascript"
    }
   },
   "outputs": [],
   "source": [
    "%%js \n",
    "\n",
    "export class GameEnv {\n",
    "    static gravity = 3;\n",
    "   \n",
    "}"
   ]
  },
  {
   "cell_type": "markdown",
   "metadata": {},
   "source": [
    "The gravity property in the GameEnv class is a number that represents the gravitational force applied to game objects."
   ]
  },
  {
   "cell_type": "markdown",
   "metadata": {},
   "source": [
    "## 2. Strings\n",
    "Strings represent text and are enclosed in single ('), double (\") quotes, or backticks (`) for template literals."
   ]
  },
  {
   "cell_type": "code",
   "execution_count": null,
   "metadata": {
    "vscode": {
     "languageId": "javascript"
    }
   },
   "outputs": [],
   "source": [
    "%%JavaScript\n",
    "\n",
    "export class GameEnv {\n",
    "    static userID = \"guest\";\n",
    "  \n",
    "}"
   ]
  },
  {
   "cell_type": "markdown",
   "metadata": {},
   "source": [
    "The userID property in the GameEnv class is a string that represents the user's ID."
   ]
  },
  {
   "cell_type": "markdown",
   "metadata": {},
   "source": [
    "## 3. Booleans\n",
    "Booleans represent true or false values. They are often used in conditional statements."
   ]
  },
  {
   "cell_type": "code",
   "execution_count": null,
   "metadata": {
    "vscode": {
     "languageId": "javascript"
    }
   },
   "outputs": [],
   "source": [
    "%%js \n",
    "\n",
    "export class GameEnv {\n",
    "    static invincible = false;\n",
    "\n",
    "}"
   ]
  },
  {
   "cell_type": "markdown",
   "metadata": {},
   "source": [
    "The invincible property in the GameEnv class is a boolean that represents whether the player is invincible."
   ]
  },
  {
   "cell_type": "markdown",
   "metadata": {},
   "source": [
    "## 4. Arrays\n",
    "Arrays store multiple values in a single variable. Elements in an array can be accessed using indexes."
   ]
  },
  {
   "cell_type": "code",
   "execution_count": null,
   "metadata": {
    "vscode": {
     "languageId": "javascript"
    }
   },
   "outputs": [],
   "source": [
    "%%js \n",
    "\n",
    "export class GameEnv {\n",
    "    static levels = [];\n",
    "\n",
    "}"
   ]
  },
  {
   "cell_type": "markdown",
   "metadata": {},
   "source": [
    "The levels property in the GameEnv class is an array that stores the different levels in the game."
   ]
  },
  {
   "cell_type": "markdown",
   "metadata": {
    "vscode": {
     "languageId": "raw"
    }
   },
   "source": [
    "## 5. JSON Objects\n",
    "JSON (JavaScript Object Notation) is a lightweight data format used for storing and exchanging data."
   ]
  },
  {
   "cell_type": "code",
   "execution_count": null,
   "metadata": {
    "vscode": {
     "languageId": "javascript"
    }
   },
   "outputs": [],
   "source": [
    "%%js \n",
    "\n",
    "class Character extends GameObject {\n",
    "\n",
    "    updateInfo(json) {\n",
    "        super.updateInfo(json);\n",
    "        var element = this.canvas;\n",
    "        if (json.id === element.id) {\n",
    "            this.x = json.x * GameEnv.innerWidth;\n",
    "            this.y = (json.y * (GameEnv.bottom - GameEnv.top)) + GameEnv.top;\n",
    "            this.frameY = json.frameY;\n",
    "        }\n",
    "        return json.id === element.id;\n",
    "    }\n",
    "\n",
    "}"
   ]
  },
  {
   "cell_type": "markdown",
   "metadata": {},
   "source": [
    "The updateInfo method in the Character class updates the character's information based on a JSON object."
   ]
  },
  {
   "cell_type": "markdown",
   "metadata": {},
   "source": [
    "## Conclusion\n",
    "In this lesson, we covered:\n",
    "\n",
    "- Numbers: Used for arithmetic operations.\n",
    "- Strings: Represent text data.\n",
    "- Booleans: Represent true or false values.\n",
    "- Arrays: Store multiple elements.\n",
    "- JSON Objects: Represent structured data."
   ]
  }
 ],
 "metadata": {
  "language_info": {
   "name": "python"
  }
 },
 "nbformat": 4,
 "nbformat_minor": 2
}
