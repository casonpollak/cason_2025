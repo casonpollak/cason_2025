{
 "cells": [
  {
   "cell_type": "raw",
   "metadata": {
    "vscode": {
     "languageId": "raw"
    }
   },
   "source": [
    "---\n",
    "author: Cason Pollak\n",
    "layout: post\n",
    "title:  5 Things I did over 24 weeks\n",
    "description: My blog about five accomplishments over the past 24 weeks of CSSE.\n",
    "permalink: /final/five-things/\n",
    "categories: ['5 Things']\n",
    "toc: true\n",
    "comments: true\n",
    "---"
   ]
  },
  {
   "cell_type": "markdown",
   "metadata": {},
   "source": [
    "### 5 Things I did over 24 weeks\n",
    "\n",
    "#### 1. Variables lesson \n",
    "\n",
    "In CSSE1, each group was tasked with teaching the class a fundamental principle of JavaScript. My group chose to teach about variables. In this lesson, we covered the different types of variables in JavaScript and how they can be used. This was an essential part of my learning and understanding of JavaScript.\n",
    "\n",
    "#### 2. Collisions lesson\n",
    "\n",
    "During CSSE2, we were introduced to the platformer game. Each group was assigned a level to work on and made modifications to make the game more unique. Additionally, every group was tasked with teaching a lesson about a key feature of the game. My group was assigned the topic of collisions. We created a Jupyter Notebook presentation to explain how collisions work in the platformer game.\n",
    "\n",
    "#### 3. Creating new item block logic/Platformer game\n",
    "\n",
    "While working on the platformer game with my group, we assigned tasks to each member to improve our level. I chose to work on making the item block disappear when the player collides with it. During this process, I gained a deeper understanding of how collisions work in the platformer game.\n",
    "\n",
    "#### 4. Planning and Issues\n",
    "\n",
    "Planning and managing issues are key to a successful GitHub project. Tools like burndown charts help you stay on track, ensuring you always know what tasks are next on the agenda. Issues can be used to summarize your progress, helping you remember what you've accomplished and what steps were taken to achieve specific goals. They also allow you to track important errors and bugs that can be addressed later.\n",
    "\n",
    "These two skills, planning, and issue management, were crucial additions to my skill set. Not only do they improve my coding workflow, but they also enhance my overall organization and time management in life.\n",
    "\n",
    "#### 5. 8 Blogs\n",
    "\n",
    "When taking CSSE, it's important to start with the basics and gradually build up to more complex concepts. These eight blogs summarize key JavaScript fundamentals and how they are applied to the platformer game. They also showcase my progress in modifying the game and my overall growth throughout CSSE.\n"
   ]
  }
 ],
 "metadata": {
  "language_info": {
   "name": "python"
  }
 },
 "nbformat": 4,
 "nbformat_minor": 2
}
