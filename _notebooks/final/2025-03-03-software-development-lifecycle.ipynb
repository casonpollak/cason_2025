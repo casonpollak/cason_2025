{
 "cells": [
  {
   "cell_type": "raw",
   "metadata": {
    "vscode": {
     "languageId": "raw"
    }
   },
   "source": [
    "---\n",
    "author: Cason Pollak\n",
    "layout: post\n",
    "title:  Software Development Lifecycle Blog\n",
    "description: My blog about source control, forking, branching, building, testing and verification, pull requests, merging, and deployment.\n",
    "permalink: /final/SDL/\n",
    "categories: ['8 Blogs']\n",
    "toc: true\n",
    "comments: true\n",
    "---"
   ]
  },
  {
   "cell_type": "markdown",
   "metadata": {},
   "source": [
    "### Software Development Lifecycle (SDLC)\n",
    "\n",
    "**The Software Development Lifecycle is the process of planning, developing, testing, and deploying software applications. It ensures that software is built in a structured and efficient manner.**\n",
    "\n",
    "#### 1. Source Control (Git)\n",
    "Source control tracks changes to the codebase, allowing multiple developers to collaborate without overwriting each other's work. Git is the most widely used version control system.\n",
    "\n",
    "**Why use source control?**\n",
    "- Tracks every change in the code.\n",
    "- Allows multiple developers to work on the same project without conflicts.\n",
    "- Provides a history of code changes (useful for debugging and rollbacks).\n",
    "- Supports collaboration through repositories like GitHub, GitLab, and Bitbucket.\n",
    "\n",
    "**Common Git Commands:**\n",
    "```\n",
    "git init        # Initialize a Git repository\n",
    "git clone <repo_url>  # Clone an existing repository\n",
    "git status      # Check the status of changes\n",
    "git add .       # Stage changes\n",
    "git commit -m \"Commit message\"  # Save changes locally\n",
    "git push        # Push changes to a remote repository\n",
    "git pull        # Fetch and merge changes from the remote repository\n",
    "```"
   ]
  },
  {
   "cell_type": "markdown",
   "metadata": {},
   "source": [
    "#### 2. Forking & Branching\n",
    "\n",
    "**Forking**\n",
    "- Creating an independent copy of a repository. Useful for contributing to open-source projects or making personal modifications.\n",
    "\n",
    "**Branching**\n",
    "- Creating a separate version of the codebase to work on new features or fixes without affecting the main code.\n",
    "\n",
    "**Types of Branches in Git:**\n",
    "- Main (Master) Branch: The stable, production-ready branch.\n",
    "- Feature Branch: For developing new features.\n",
    "- Bug Fix Branch: Created to address a specific bug.\n",
    "- Release Branch: A stable branch prepared for deployment.\n",
    "\n",
    "**Common Git Branching Commands:**\n",
    "```\n",
    "git branch feature-xyz  # Create a new branch\n",
    "git checkout feature-xyz  # Switch to a branch\n",
    "git checkout -b new-feature  # Create and switch to a new branch\n",
    "git merge feature-xyz  # Merge a branch into the main branch\n",
    "git branch -d feature-xyz  # Delete a branch\n",
    "```"
   ]
  },
  {
   "cell_type": "markdown",
   "metadata": {},
   "source": [
    "#### 3. Testing & Verification\n",
    "\n",
    "Testing ensures that code changes work correctly before being merged into the main branch or deployed.\n",
    "\n",
    "**Types of Testing:**\n",
    "- Unit Testing: Tests individual functions or components.\n",
    "- Integration Testing: Ensures different parts of the application work together.\n",
    "- End-to-End Testing: Simulates user behavior to test the entire application.\n",
    "- Automated Testing: Runs pre-written test cases automatically.\n",
    "\n",
    "**Example of Unit Testing in JavaScript (Using Jest):**\n",
    "```javascript\n",
    "function add(a, b) {\n",
    "    return a + b;\n",
    "}\n",
    "\n",
    "test('adds 1 + 2 to equal 3', () => {\n",
    "    expect(add(1, 2)).toBe(3);\n",
    "});\n",
    "```\n",
    "\n",
    "- **Continuous Integration (CI):** Tools like GitHub Actions, Jenkins, and Travis CI automatically test code when changes are pushed."
   ]
  },
  {
   "cell_type": "markdown",
   "metadata": {},
   "source": [
    "#### 4. Pull Requests & Merging\n",
    "\n",
    "A pull request (PR) is a request to merge changes from one branch into another (usually into the main branch). This allows other developers to review the code before it gets added to the main project.\n",
    "\n",
    "**Pull Request Workflow:**\n",
    "- Create a new branch and make changes.\n",
    "- Push the changes to a remote repository.\n",
    "- Open a pull request (PR).\n",
    "- Reviewers provide feedback or approve the PR.\n",
    "- If approved, the PR is merged into the main branch.\n",
    "\n",
    "**Merging Strategies:**\n",
    "- Merge Commit (`git merge`): Keeps all commit history.\n",
    "- Rebase (`git rebase`): Applies changes on top of the main branch for a cleaner history.\n",
    "- Squash and Merge: Combines multiple commits into one before merging."
   ]
  },
  {
   "cell_type": "markdown",
   "metadata": {},
   "source": [
    "#### 5. Deployment\n",
    "\n",
    "Deployment is the process of making the software available for users.\n",
    "\n",
    "**Types of Deployment:**\n",
    "- Development Environment: Used for internal testing.\n",
    "- Staging Environment: A production-like environment for final testing.\n",
    "- Production Environment: The live application used by real users.\n",
    "\n",
    "**Common Deployment Methods:**\n",
    "- Manual Deployment: Uploading files to a server.\n",
    "- Automated Deployment (CI/CD Pipelines): Uses tools like GitHub Actions, Jenkins, or Docker to automate deployment.\n",
    "- Containerization (Docker, Kubernetes): Packages applications into containers for easy deployment."
   ]
  }
 ],
 "metadata": {
  "language_info": {
   "name": "python"
  }
 },
 "nbformat": 4,
 "nbformat_minor": 2
}
